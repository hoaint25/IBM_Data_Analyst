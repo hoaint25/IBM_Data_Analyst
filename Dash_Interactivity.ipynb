{
  "nbformat": 4,
  "nbformat_minor": 0,
  "metadata": {
    "colab": {
      "name": "Untitled20.ipynb",
      "provenance": [],
      "authorship_tag": "ABX9TyPtTJSJYLwsdf/M6LaDkk8I",
      "include_colab_link": true
    },
    "kernelspec": {
      "name": "python3",
      "display_name": "Python 3"
    },
    "language_info": {
      "name": "python"
    }
  },
  "cells": [
    {
      "cell_type": "markdown",
      "metadata": {
        "id": "view-in-github",
        "colab_type": "text"
      },
      "source": [
        "<a href=\"https://colab.research.google.com/github/hoaint25/IBM_Data_Analyst/blob/master/Dash_Interactivity.ipynb\" target=\"_parent\"><img src=\"https://colab.research.google.com/assets/colab-badge.svg\" alt=\"Open In Colab\"/></a>"
      ]
    },
    {
      "cell_type": "markdown",
      "source": [
        "## **Objectives**\n",
        "\n",
        "In this lab, you will work on Dash Callbacks.\n",
        "\n",
        "## **Dataset Used**\n",
        "\n",
        "Airline Reporting Carrier On-Time Performance dataset from Data Asset eXchange\n",
        "\n",
        "## **Lab Question**\n",
        "\n",
        "Extract average monthly arrival delay time and see how it changes over the year.\n",
        "\n",
        "# **Dash Application Creation**\n",
        "\n",
        "### **Todo for the lab question**\n",
        "1. Import required libraries, read the airline data, and create an application layout\n",
        "2. Add title to the dashboard using HTML H1 component\n",
        "3. Add a HTML division and core text input component inside the division. Provide an input component id and a default value to the component.\n",
        "4. Add a HTML dividion and core graph component. Provide a graph component id.\n",
        "5. Add callback decorator and provide input and output parameters.\n",
        "6. Define callback function, perform computation to extract required information, create the graph, and update the layout.\n",
        "7. Run the app"
      ],
      "metadata": {
        "id": "qy_Etq0EWa2R"
      }
    },
    {
      "cell_type": "markdown",
      "source": [
        "## **Hints**\n",
        "General examples can be found here.\n",
        "\n",
        "1. For step 1 (only review), this is very specific to running app from Jupyerlab.\n",
        "\n",
        "- For Jupyterlab,we will be using jupyter-dash library. Adding from jupyter_dash import JupyterDash import statement.\n",
        "- Instead of creating dash application using app = dash.Dash(), we will be using app = JupyterDash(__name__).\n",
        "- Use pandas to read the airline data.\n",
        "2. For step 2,\n",
        "\n",
        "- Plotly H1 HTML Component\n",
        "- Title as Airline Performance Dashboard\n",
        "- Use style parameter and make the title center aligned, with color code #503D36, and font-size as 40. Check More about HTML section here.\n",
        "\n",
        "3. For step 3,\n",
        "\n",
        "- Add dcc input component and provide id as input-year. Use style parameter and assign height of the inout box to be 50px and font-size to be 35.\n",
        "- HTML Div component and provide id as line-plot. Use style parameter and assign font-size as 40.\n",
        "4. For step 4,\n",
        "\n",
        "- Core graph component and assign id as line-plot.\n",
        "5. For 5 and 6,\n",
        "\n",
        "- Basic callback"
      ],
      "metadata": {
        "id": "2vsvk--1W3gR"
      }
    },
    {
      "cell_type": "code",
      "source": [
        ""
      ],
      "metadata": {
        "id": "0rC6tx-sWpp-"
      },
      "execution_count": null,
      "outputs": []
    },
    {
      "cell_type": "code",
      "source": [
        ""
      ],
      "metadata": {
        "id": "yj7LqaS6WpwY"
      },
      "execution_count": null,
      "outputs": []
    }
  ]
}