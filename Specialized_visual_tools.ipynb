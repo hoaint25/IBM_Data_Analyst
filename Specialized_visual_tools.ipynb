{
  "nbformat": 4,
  "nbformat_minor": 0,
  "metadata": {
    "colab": {
      "name": "Untitled",
      "provenance": [],
      "authorship_tag": "ABX9TyNJUO0CWBiqusaIAYxjavgZ",
      "include_colab_link": true
    },
    "kernelspec": {
      "name": "python3",
      "display_name": "Python 3"
    },
    "language_info": {
      "name": "python"
    }
  },
  "cells": [
    {
      "cell_type": "markdown",
      "metadata": {
        "id": "view-in-github",
        "colab_type": "text"
      },
      "source": [
        "<a href=\"https://colab.research.google.com/github/hoaint25/IBM_Data_Analyst/blob/master/Specialized_visual_tools.ipynb\" target=\"_parent\"><img src=\"https://colab.research.google.com/assets/colab-badge.svg\" alt=\"Open In Colab\"/></a>"
      ]
    },
    {
      "cell_type": "markdown",
      "source": [
        "# **Pie Charts, Box Plots, Scatter Plots, and Bubble Plots**\n",
        "\n",
        "Exploring Datasets with pandas and Matplotlib\n",
        "\n",
        "Toolkits: The course heavily relies on pandas and Numpy for data wrangling, analysis, and visualization. The primary plotting library we will explore in the course is Matplotlib.\n",
        "\n",
        "Dataset: Immigration to Canada from 1980 to 2013 - International migration flows to and from selected countries - The 2015 revision from United Nation's website.\n",
        "\n",
        "The dataset contains annual data on the flows of international migrants as recorded by the countries of destination. The data presents both inflows and outflows according to the place of birth, citizenship or place of previous / next residence both for foreigners and nationals. In this lab, we will focus on the Canadian Immigration data."
      ],
      "metadata": {
        "id": "RHXH3rL-0d79"
      }
    },
    {
      "cell_type": "markdown",
      "source": [
        "## **Downloading and Prepping Data**\n",
        "Import primary modules."
      ],
      "metadata": {
        "id": "vhgSybsS0w8U"
      }
    },
    {
      "cell_type": "code",
      "execution_count": 8,
      "metadata": {
        "id": "FRzdRfJFudg5"
      },
      "outputs": [],
      "source": [
        "import pandas as pd \n",
        "import numpy as np "
      ]
    },
    {
      "cell_type": "markdown",
      "source": [
        "Let's download and import our primary Canadian Immigration dataset using pandas read_excel() method. Normally, before we can do that, we would need to download a module which pandas requires to read in excel files. This module is xlrd. For your convenience, we have pre-installed this module, so you would not have to worry about that. Otherwise, you would need to run the following line of code to install the xlrd module:\n",
        "\n",
        "!conda install -c anaconda xlrd --yes\n",
        "Download the dataset and read it into a pandas dataframe."
      ],
      "metadata": {
        "id": "nk-y6yXT09Db"
      }
    },
    {
      "cell_type": "code",
      "source": [
        "df_can = pd.read_excel('https://cf-courses-data.s3.us.cloud-object-storage.appdomain.cloud/IBMDeveloperSkillsNetwork-DV0101EN-SkillsNetwork/Data%20Files/Canada.xlsx',\n",
        "                       sheet_name='Canada by Citizenship',\n",
        "                       skiprows=range(20),\n",
        "                       skipfooter=2\n",
        "                      )\n",
        "\n",
        "print('Data downloaded and read into a dataframe!')"
      ],
      "metadata": {
        "id": "Tydxubr91Beh",
        "outputId": "6c066ce6-3781-4466-d241-76906bc937b1",
        "colab": {
          "base_uri": "https://localhost:8080/"
        }
      },
      "execution_count": 9,
      "outputs": [
        {
          "output_type": "stream",
          "name": "stdout",
          "text": [
            "Data downloaded and read into a dataframe!\n"
          ]
        }
      ]
    },
    {
      "cell_type": "markdown",
      "source": [
        "Let's take a look at the first five items in our dataset."
      ],
      "metadata": {
        "id": "NGx3PS4w1GMs"
      }
    },
    {
      "cell_type": "code",
      "source": [
        "df_can.head()"
      ],
      "metadata": {
        "id": "O1WUcAMB1IKs",
        "outputId": "be921f84-5b49-41d5-cbf6-68e7eaddb91d",
        "colab": {
          "base_uri": "https://localhost:8080/",
          "height": 382
        }
      },
      "execution_count": 10,
      "outputs": [
        {
          "output_type": "execute_result",
          "data": {
            "text/plain": [
              "         Type    Coverage          OdName  AREA AreaName   REG  \\\n",
              "0  Immigrants  Foreigners     Afghanistan   935     Asia  5501   \n",
              "1  Immigrants  Foreigners         Albania   908   Europe   925   \n",
              "2  Immigrants  Foreigners         Algeria   903   Africa   912   \n",
              "3  Immigrants  Foreigners  American Samoa   909  Oceania   957   \n",
              "4  Immigrants  Foreigners         Andorra   908   Europe   925   \n",
              "\n",
              "           RegName  DEV             DevName  1980  ...  2004  2005  2006  \\\n",
              "0    Southern Asia  902  Developing regions    16  ...  2978  3436  3009   \n",
              "1  Southern Europe  901   Developed regions     1  ...  1450  1223   856   \n",
              "2  Northern Africa  902  Developing regions    80  ...  3616  3626  4807   \n",
              "3        Polynesia  902  Developing regions     0  ...     0     0     1   \n",
              "4  Southern Europe  901   Developed regions     0  ...     0     0     1   \n",
              "\n",
              "   2007  2008  2009  2010  2011  2012  2013  \n",
              "0  2652  2111  1746  1758  2203  2635  2004  \n",
              "1   702   560   716   561   539   620   603  \n",
              "2  3623  4005  5393  4752  4325  3774  4331  \n",
              "3     0     0     0     0     0     0     0  \n",
              "4     1     0     0     0     0     1     1  \n",
              "\n",
              "[5 rows x 43 columns]"
            ],
            "text/html": [
              "\n",
              "  <div id=\"df-15e5701b-47ac-43f3-8423-0fb456763092\">\n",
              "    <div class=\"colab-df-container\">\n",
              "      <div>\n",
              "<style scoped>\n",
              "    .dataframe tbody tr th:only-of-type {\n",
              "        vertical-align: middle;\n",
              "    }\n",
              "\n",
              "    .dataframe tbody tr th {\n",
              "        vertical-align: top;\n",
              "    }\n",
              "\n",
              "    .dataframe thead th {\n",
              "        text-align: right;\n",
              "    }\n",
              "</style>\n",
              "<table border=\"1\" class=\"dataframe\">\n",
              "  <thead>\n",
              "    <tr style=\"text-align: right;\">\n",
              "      <th></th>\n",
              "      <th>Type</th>\n",
              "      <th>Coverage</th>\n",
              "      <th>OdName</th>\n",
              "      <th>AREA</th>\n",
              "      <th>AreaName</th>\n",
              "      <th>REG</th>\n",
              "      <th>RegName</th>\n",
              "      <th>DEV</th>\n",
              "      <th>DevName</th>\n",
              "      <th>1980</th>\n",
              "      <th>...</th>\n",
              "      <th>2004</th>\n",
              "      <th>2005</th>\n",
              "      <th>2006</th>\n",
              "      <th>2007</th>\n",
              "      <th>2008</th>\n",
              "      <th>2009</th>\n",
              "      <th>2010</th>\n",
              "      <th>2011</th>\n",
              "      <th>2012</th>\n",
              "      <th>2013</th>\n",
              "    </tr>\n",
              "  </thead>\n",
              "  <tbody>\n",
              "    <tr>\n",
              "      <th>0</th>\n",
              "      <td>Immigrants</td>\n",
              "      <td>Foreigners</td>\n",
              "      <td>Afghanistan</td>\n",
              "      <td>935</td>\n",
              "      <td>Asia</td>\n",
              "      <td>5501</td>\n",
              "      <td>Southern Asia</td>\n",
              "      <td>902</td>\n",
              "      <td>Developing regions</td>\n",
              "      <td>16</td>\n",
              "      <td>...</td>\n",
              "      <td>2978</td>\n",
              "      <td>3436</td>\n",
              "      <td>3009</td>\n",
              "      <td>2652</td>\n",
              "      <td>2111</td>\n",
              "      <td>1746</td>\n",
              "      <td>1758</td>\n",
              "      <td>2203</td>\n",
              "      <td>2635</td>\n",
              "      <td>2004</td>\n",
              "    </tr>\n",
              "    <tr>\n",
              "      <th>1</th>\n",
              "      <td>Immigrants</td>\n",
              "      <td>Foreigners</td>\n",
              "      <td>Albania</td>\n",
              "      <td>908</td>\n",
              "      <td>Europe</td>\n",
              "      <td>925</td>\n",
              "      <td>Southern Europe</td>\n",
              "      <td>901</td>\n",
              "      <td>Developed regions</td>\n",
              "      <td>1</td>\n",
              "      <td>...</td>\n",
              "      <td>1450</td>\n",
              "      <td>1223</td>\n",
              "      <td>856</td>\n",
              "      <td>702</td>\n",
              "      <td>560</td>\n",
              "      <td>716</td>\n",
              "      <td>561</td>\n",
              "      <td>539</td>\n",
              "      <td>620</td>\n",
              "      <td>603</td>\n",
              "    </tr>\n",
              "    <tr>\n",
              "      <th>2</th>\n",
              "      <td>Immigrants</td>\n",
              "      <td>Foreigners</td>\n",
              "      <td>Algeria</td>\n",
              "      <td>903</td>\n",
              "      <td>Africa</td>\n",
              "      <td>912</td>\n",
              "      <td>Northern Africa</td>\n",
              "      <td>902</td>\n",
              "      <td>Developing regions</td>\n",
              "      <td>80</td>\n",
              "      <td>...</td>\n",
              "      <td>3616</td>\n",
              "      <td>3626</td>\n",
              "      <td>4807</td>\n",
              "      <td>3623</td>\n",
              "      <td>4005</td>\n",
              "      <td>5393</td>\n",
              "      <td>4752</td>\n",
              "      <td>4325</td>\n",
              "      <td>3774</td>\n",
              "      <td>4331</td>\n",
              "    </tr>\n",
              "    <tr>\n",
              "      <th>3</th>\n",
              "      <td>Immigrants</td>\n",
              "      <td>Foreigners</td>\n",
              "      <td>American Samoa</td>\n",
              "      <td>909</td>\n",
              "      <td>Oceania</td>\n",
              "      <td>957</td>\n",
              "      <td>Polynesia</td>\n",
              "      <td>902</td>\n",
              "      <td>Developing regions</td>\n",
              "      <td>0</td>\n",
              "      <td>...</td>\n",
              "      <td>0</td>\n",
              "      <td>0</td>\n",
              "      <td>1</td>\n",
              "      <td>0</td>\n",
              "      <td>0</td>\n",
              "      <td>0</td>\n",
              "      <td>0</td>\n",
              "      <td>0</td>\n",
              "      <td>0</td>\n",
              "      <td>0</td>\n",
              "    </tr>\n",
              "    <tr>\n",
              "      <th>4</th>\n",
              "      <td>Immigrants</td>\n",
              "      <td>Foreigners</td>\n",
              "      <td>Andorra</td>\n",
              "      <td>908</td>\n",
              "      <td>Europe</td>\n",
              "      <td>925</td>\n",
              "      <td>Southern Europe</td>\n",
              "      <td>901</td>\n",
              "      <td>Developed regions</td>\n",
              "      <td>0</td>\n",
              "      <td>...</td>\n",
              "      <td>0</td>\n",
              "      <td>0</td>\n",
              "      <td>1</td>\n",
              "      <td>1</td>\n",
              "      <td>0</td>\n",
              "      <td>0</td>\n",
              "      <td>0</td>\n",
              "      <td>0</td>\n",
              "      <td>1</td>\n",
              "      <td>1</td>\n",
              "    </tr>\n",
              "  </tbody>\n",
              "</table>\n",
              "<p>5 rows × 43 columns</p>\n",
              "</div>\n",
              "      <button class=\"colab-df-convert\" onclick=\"convertToInteractive('df-15e5701b-47ac-43f3-8423-0fb456763092')\"\n",
              "              title=\"Convert this dataframe to an interactive table.\"\n",
              "              style=\"display:none;\">\n",
              "        \n",
              "  <svg xmlns=\"http://www.w3.org/2000/svg\" height=\"24px\"viewBox=\"0 0 24 24\"\n",
              "       width=\"24px\">\n",
              "    <path d=\"M0 0h24v24H0V0z\" fill=\"none\"/>\n",
              "    <path d=\"M18.56 5.44l.94 2.06.94-2.06 2.06-.94-2.06-.94-.94-2.06-.94 2.06-2.06.94zm-11 1L8.5 8.5l.94-2.06 2.06-.94-2.06-.94L8.5 2.5l-.94 2.06-2.06.94zm10 10l.94 2.06.94-2.06 2.06-.94-2.06-.94-.94-2.06-.94 2.06-2.06.94z\"/><path d=\"M17.41 7.96l-1.37-1.37c-.4-.4-.92-.59-1.43-.59-.52 0-1.04.2-1.43.59L10.3 9.45l-7.72 7.72c-.78.78-.78 2.05 0 2.83L4 21.41c.39.39.9.59 1.41.59.51 0 1.02-.2 1.41-.59l7.78-7.78 2.81-2.81c.8-.78.8-2.07 0-2.86zM5.41 20L4 18.59l7.72-7.72 1.47 1.35L5.41 20z\"/>\n",
              "  </svg>\n",
              "      </button>\n",
              "      \n",
              "  <style>\n",
              "    .colab-df-container {\n",
              "      display:flex;\n",
              "      flex-wrap:wrap;\n",
              "      gap: 12px;\n",
              "    }\n",
              "\n",
              "    .colab-df-convert {\n",
              "      background-color: #E8F0FE;\n",
              "      border: none;\n",
              "      border-radius: 50%;\n",
              "      cursor: pointer;\n",
              "      display: none;\n",
              "      fill: #1967D2;\n",
              "      height: 32px;\n",
              "      padding: 0 0 0 0;\n",
              "      width: 32px;\n",
              "    }\n",
              "\n",
              "    .colab-df-convert:hover {\n",
              "      background-color: #E2EBFA;\n",
              "      box-shadow: 0px 1px 2px rgba(60, 64, 67, 0.3), 0px 1px 3px 1px rgba(60, 64, 67, 0.15);\n",
              "      fill: #174EA6;\n",
              "    }\n",
              "\n",
              "    [theme=dark] .colab-df-convert {\n",
              "      background-color: #3B4455;\n",
              "      fill: #D2E3FC;\n",
              "    }\n",
              "\n",
              "    [theme=dark] .colab-df-convert:hover {\n",
              "      background-color: #434B5C;\n",
              "      box-shadow: 0px 1px 3px 1px rgba(0, 0, 0, 0.15);\n",
              "      filter: drop-shadow(0px 1px 2px rgba(0, 0, 0, 0.3));\n",
              "      fill: #FFFFFF;\n",
              "    }\n",
              "  </style>\n",
              "\n",
              "      <script>\n",
              "        const buttonEl =\n",
              "          document.querySelector('#df-15e5701b-47ac-43f3-8423-0fb456763092 button.colab-df-convert');\n",
              "        buttonEl.style.display =\n",
              "          google.colab.kernel.accessAllowed ? 'block' : 'none';\n",
              "\n",
              "        async function convertToInteractive(key) {\n",
              "          const element = document.querySelector('#df-15e5701b-47ac-43f3-8423-0fb456763092');\n",
              "          const dataTable =\n",
              "            await google.colab.kernel.invokeFunction('convertToInteractive',\n",
              "                                                     [key], {});\n",
              "          if (!dataTable) return;\n",
              "\n",
              "          const docLinkHtml = 'Like what you see? Visit the ' +\n",
              "            '<a target=\"_blank\" href=https://colab.research.google.com/notebooks/data_table.ipynb>data table notebook</a>'\n",
              "            + ' to learn more about interactive tables.';\n",
              "          element.innerHTML = '';\n",
              "          dataTable['output_type'] = 'display_data';\n",
              "          await google.colab.output.renderOutput(dataTable, element);\n",
              "          const docLink = document.createElement('div');\n",
              "          docLink.innerHTML = docLinkHtml;\n",
              "          element.appendChild(docLink);\n",
              "        }\n",
              "      </script>\n",
              "    </div>\n",
              "  </div>\n",
              "  "
            ]
          },
          "metadata": {},
          "execution_count": 10
        }
      ]
    },
    {
      "cell_type": "markdown",
      "source": [
        "Let's find out how many entries there are in our dataset."
      ],
      "metadata": {
        "id": "Uj61Df9G1Lva"
      }
    },
    {
      "cell_type": "code",
      "source": [
        "#print the dimensions of the dataframe\n",
        "print(df_can.shape)"
      ],
      "metadata": {
        "id": "tmfyYL-m1QMU",
        "outputId": "707dbfc4-5743-4d2a-fc42-e00e89d1b6cc",
        "colab": {
          "base_uri": "https://localhost:8080/"
        }
      },
      "execution_count": 11,
      "outputs": [
        {
          "output_type": "stream",
          "name": "stdout",
          "text": [
            "(195, 43)\n"
          ]
        }
      ]
    },
    {
      "cell_type": "markdown",
      "source": [
        "Clean up data. We will make some modifications to the original dataset to make it easier to create our visualizations. Refer to Introduction to Matplotlib and Line Plots and Area Plots, Histograms, and Bar Plots for a detailed description of this preprocessing."
      ],
      "metadata": {
        "id": "ZWn5RMyq1rPd"
      }
    },
    {
      "cell_type": "code",
      "source": [
        "#clean up the dataset to remove unecessary columns (eg. REG)\n",
        "df_can.drop(['AREA','REG','DEV','Type','Coverage'], axis = 1, inplace = True)\n",
        "\n",
        "#rename the columns that they make sense\n",
        "df_can.rename(columns={'OdName':'Country', 'AreaName':'Continent','RegName':'Region'}, inplace=True)\n",
        "\n",
        "#Make all column labels of type string \n",
        "df_can.columns = list(map(str,df_can.columns))\n",
        "\n",
        "#set the country name as index-useful for quickly looking up countries using .loc method \n",
        "df_can.set_index('Country', inplace =True)\n",
        "\n",
        "#add total column\n",
        "df_can['Total'] = df_can.sum(axis = 1)\n",
        "\n",
        "#years thay will be using in this lesson - useful for plotting later on \n",
        "years = list(map(str, range(1980,2014)))\n",
        "print('data dimesion', df_can.shape)"
      ],
      "metadata": {
        "id": "lNDJ980O1zyE",
        "outputId": "3229feb3-3978-49d7-c926-33ae344fc77e",
        "colab": {
          "base_uri": "https://localhost:8080/"
        }
      },
      "execution_count": 12,
      "outputs": [
        {
          "output_type": "stream",
          "name": "stdout",
          "text": [
            "data dimesion (195, 38)\n"
          ]
        },
        {
          "output_type": "stream",
          "name": "stderr",
          "text": [
            "/usr/local/lib/python3.7/dist-packages/ipykernel_launcher.py:14: FutureWarning: Dropping of nuisance columns in DataFrame reductions (with 'numeric_only=None') is deprecated; in a future version this will raise TypeError.  Select only valid columns before calling the reduction.\n",
            "  \n"
          ]
        }
      ]
    },
    {
      "cell_type": "markdown",
      "source": [
        ""
      ],
      "metadata": {
        "id": "k9Y8me6a7ulL"
      }
    },
    {
      "cell_type": "markdown",
      "source": [
        "## **Visualizing Data using Matplotlib**"
      ],
      "metadata": {
        "id": "4sMqADBh7uo7"
      }
    },
    {
      "cell_type": "code",
      "source": [
        "import matplotlib as mpl\n",
        "import matplotlib.pyplot as plt\n",
        "\n",
        "mpl.style.use('ggplot') "
      ],
      "metadata": {
        "id": "pCf1FKyk73V-"
      },
      "execution_count": 13,
      "outputs": []
    },
    {
      "cell_type": "markdown",
      "source": [
        "### **Pie Charts**\n",
        "\n",
        "A pie chart is a circualr graphic that displays numeric proportions by dividing a circle (or pie) into proportional slices. You are most likely already familiar with pie charts as it is widely used in business and media. We can create pie charts in Matplotlib by passing in the kind=pie keyword.\n",
        "\n",
        "Let's use a pie chart to explore the proportion (percentage) of new immigrants grouped by continents for the entire time period from 1980 to 2013.\n",
        "\n",
        "Step 1: Gather data.\n",
        "\n",
        "We will use pandas groupby method to summarize the immigration data by Continent. The general process of groupby involves the following steps:\n",
        "\n",
        "1. Split: Splitting the data into groups based on some criteria.\n",
        "2. Apply: Applying a function to each group independently: .sum() .count() .mean() .std() .aggregate() .apply() .etc..\n",
        "3. Combine: Combining the results into a data structure.\n",
        "\n",
        "![Screenshot 2022-04-11 at 21.06.11.png](data:image/png;base64,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)"
      ],
      "metadata": {
        "id": "6AwJmu_g8ExG"
      }
    },
    {
      "cell_type": "code",
      "source": [
        "#group countries by continents and apply sum() function \n",
        "df_continents = df_can.groupby('Continent', axis = 0).sum()\n",
        "\n",
        "#note:the output of the groupby method is a grouby object\n",
        "#we can not use it further until we apply a function \n",
        "print(type(df_can.groupby('Continent', axis = 0)))\n",
        "\n",
        "df_continents.head()\n"
      ],
      "metadata": {
        "id": "QfeFmnA18qa7",
        "outputId": "47d3f22e-adf0-41af-dea0-4dc358b0021f",
        "colab": {
          "base_uri": "https://localhost:8080/",
          "height": 413
        }
      },
      "execution_count": 15,
      "outputs": [
        {
          "output_type": "stream",
          "name": "stdout",
          "text": [
            "<class 'pandas.core.groupby.generic.DataFrameGroupBy'>\n"
          ]
        },
        {
          "output_type": "execute_result",
          "data": {
            "text/plain": [
              "                                  1980   1981   1982   1983   1984   1985  \\\n",
              "Continent                                                                   \n",
              "Africa                            3951   4363   3819   2671   2639   2650   \n",
              "Asia                             31025  34314  30214  24696  27274  23850   \n",
              "Europe                           39760  44802  42720  24638  22287  20844   \n",
              "Latin America and the Caribbean  13081  15215  16769  15427  13678  15171   \n",
              "Northern America                  9378  10030   9074   7100   6661   6543   \n",
              "\n",
              "                                  1986   1987   1988   1989  ...    2005  \\\n",
              "Continent                                                    ...           \n",
              "Africa                            3782   7494   7552   9894  ...   27523   \n",
              "Asia                             28739  43203  47454  60256  ...  159253   \n",
              "Europe                           24370  46698  54726  60893  ...   35955   \n",
              "Latin America and the Caribbean  21179  28471  21924  25060  ...   24747   \n",
              "Northern America                  7074   7705   6469   6790  ...    8394   \n",
              "\n",
              "                                   2006    2007    2008    2009    2010  \\\n",
              "Continent                                                                 \n",
              "Africa                            29188   28284   29890   34534   40892   \n",
              "Asia                             149054  133459  139894  141434  163845   \n",
              "Europe                            33053   33495   34692   35078   33425   \n",
              "Latin America and the Caribbean   24676   26011   26547   26867   28818   \n",
              "Northern America                   9613    9463   10190    8995    8142   \n",
              "\n",
              "                                   2011    2012    2013    Total  \n",
              "Continent                                                         \n",
              "Africa                            35441   38083   38543   618948  \n",
              "Asia                             146894  152218  155075  3317794  \n",
              "Europe                            26778   29177   28691  1410947  \n",
              "Latin America and the Caribbean   27856   27173   24950   765148  \n",
              "Northern America                   7677    7892    8503   241142  \n",
              "\n",
              "[5 rows x 35 columns]"
            ],
            "text/html": [
              "\n",
              "  <div id=\"df-1d2acb04-d392-4094-94a5-28c43bf7b509\">\n",
              "    <div class=\"colab-df-container\">\n",
              "      <div>\n",
              "<style scoped>\n",
              "    .dataframe tbody tr th:only-of-type {\n",
              "        vertical-align: middle;\n",
              "    }\n",
              "\n",
              "    .dataframe tbody tr th {\n",
              "        vertical-align: top;\n",
              "    }\n",
              "\n",
              "    .dataframe thead th {\n",
              "        text-align: right;\n",
              "    }\n",
              "</style>\n",
              "<table border=\"1\" class=\"dataframe\">\n",
              "  <thead>\n",
              "    <tr style=\"text-align: right;\">\n",
              "      <th></th>\n",
              "      <th>1980</th>\n",
              "      <th>1981</th>\n",
              "      <th>1982</th>\n",
              "      <th>1983</th>\n",
              "      <th>1984</th>\n",
              "      <th>1985</th>\n",
              "      <th>1986</th>\n",
              "      <th>1987</th>\n",
              "      <th>1988</th>\n",
              "      <th>1989</th>\n",
              "      <th>...</th>\n",
              "      <th>2005</th>\n",
              "      <th>2006</th>\n",
              "      <th>2007</th>\n",
              "      <th>2008</th>\n",
              "      <th>2009</th>\n",
              "      <th>2010</th>\n",
              "      <th>2011</th>\n",
              "      <th>2012</th>\n",
              "      <th>2013</th>\n",
              "      <th>Total</th>\n",
              "    </tr>\n",
              "    <tr>\n",
              "      <th>Continent</th>\n",
              "      <th></th>\n",
              "      <th></th>\n",
              "      <th></th>\n",
              "      <th></th>\n",
              "      <th></th>\n",
              "      <th></th>\n",
              "      <th></th>\n",
              "      <th></th>\n",
              "      <th></th>\n",
              "      <th></th>\n",
              "      <th></th>\n",
              "      <th></th>\n",
              "      <th></th>\n",
              "      <th></th>\n",
              "      <th></th>\n",
              "      <th></th>\n",
              "      <th></th>\n",
              "      <th></th>\n",
              "      <th></th>\n",
              "      <th></th>\n",
              "      <th></th>\n",
              "    </tr>\n",
              "  </thead>\n",
              "  <tbody>\n",
              "    <tr>\n",
              "      <th>Africa</th>\n",
              "      <td>3951</td>\n",
              "      <td>4363</td>\n",
              "      <td>3819</td>\n",
              "      <td>2671</td>\n",
              "      <td>2639</td>\n",
              "      <td>2650</td>\n",
              "      <td>3782</td>\n",
              "      <td>7494</td>\n",
              "      <td>7552</td>\n",
              "      <td>9894</td>\n",
              "      <td>...</td>\n",
              "      <td>27523</td>\n",
              "      <td>29188</td>\n",
              "      <td>28284</td>\n",
              "      <td>29890</td>\n",
              "      <td>34534</td>\n",
              "      <td>40892</td>\n",
              "      <td>35441</td>\n",
              "      <td>38083</td>\n",
              "      <td>38543</td>\n",
              "      <td>618948</td>\n",
              "    </tr>\n",
              "    <tr>\n",
              "      <th>Asia</th>\n",
              "      <td>31025</td>\n",
              "      <td>34314</td>\n",
              "      <td>30214</td>\n",
              "      <td>24696</td>\n",
              "      <td>27274</td>\n",
              "      <td>23850</td>\n",
              "      <td>28739</td>\n",
              "      <td>43203</td>\n",
              "      <td>47454</td>\n",
              "      <td>60256</td>\n",
              "      <td>...</td>\n",
              "      <td>159253</td>\n",
              "      <td>149054</td>\n",
              "      <td>133459</td>\n",
              "      <td>139894</td>\n",
              "      <td>141434</td>\n",
              "      <td>163845</td>\n",
              "      <td>146894</td>\n",
              "      <td>152218</td>\n",
              "      <td>155075</td>\n",
              "      <td>3317794</td>\n",
              "    </tr>\n",
              "    <tr>\n",
              "      <th>Europe</th>\n",
              "      <td>39760</td>\n",
              "      <td>44802</td>\n",
              "      <td>42720</td>\n",
              "      <td>24638</td>\n",
              "      <td>22287</td>\n",
              "      <td>20844</td>\n",
              "      <td>24370</td>\n",
              "      <td>46698</td>\n",
              "      <td>54726</td>\n",
              "      <td>60893</td>\n",
              "      <td>...</td>\n",
              "      <td>35955</td>\n",
              "      <td>33053</td>\n",
              "      <td>33495</td>\n",
              "      <td>34692</td>\n",
              "      <td>35078</td>\n",
              "      <td>33425</td>\n",
              "      <td>26778</td>\n",
              "      <td>29177</td>\n",
              "      <td>28691</td>\n",
              "      <td>1410947</td>\n",
              "    </tr>\n",
              "    <tr>\n",
              "      <th>Latin America and the Caribbean</th>\n",
              "      <td>13081</td>\n",
              "      <td>15215</td>\n",
              "      <td>16769</td>\n",
              "      <td>15427</td>\n",
              "      <td>13678</td>\n",
              "      <td>15171</td>\n",
              "      <td>21179</td>\n",
              "      <td>28471</td>\n",
              "      <td>21924</td>\n",
              "      <td>25060</td>\n",
              "      <td>...</td>\n",
              "      <td>24747</td>\n",
              "      <td>24676</td>\n",
              "      <td>26011</td>\n",
              "      <td>26547</td>\n",
              "      <td>26867</td>\n",
              "      <td>28818</td>\n",
              "      <td>27856</td>\n",
              "      <td>27173</td>\n",
              "      <td>24950</td>\n",
              "      <td>765148</td>\n",
              "    </tr>\n",
              "    <tr>\n",
              "      <th>Northern America</th>\n",
              "      <td>9378</td>\n",
              "      <td>10030</td>\n",
              "      <td>9074</td>\n",
              "      <td>7100</td>\n",
              "      <td>6661</td>\n",
              "      <td>6543</td>\n",
              "      <td>7074</td>\n",
              "      <td>7705</td>\n",
              "      <td>6469</td>\n",
              "      <td>6790</td>\n",
              "      <td>...</td>\n",
              "      <td>8394</td>\n",
              "      <td>9613</td>\n",
              "      <td>9463</td>\n",
              "      <td>10190</td>\n",
              "      <td>8995</td>\n",
              "      <td>8142</td>\n",
              "      <td>7677</td>\n",
              "      <td>7892</td>\n",
              "      <td>8503</td>\n",
              "      <td>241142</td>\n",
              "    </tr>\n",
              "  </tbody>\n",
              "</table>\n",
              "<p>5 rows × 35 columns</p>\n",
              "</div>\n",
              "      <button class=\"colab-df-convert\" onclick=\"convertToInteractive('df-1d2acb04-d392-4094-94a5-28c43bf7b509')\"\n",
              "              title=\"Convert this dataframe to an interactive table.\"\n",
              "              style=\"display:none;\">\n",
              "        \n",
              "  <svg xmlns=\"http://www.w3.org/2000/svg\" height=\"24px\"viewBox=\"0 0 24 24\"\n",
              "       width=\"24px\">\n",
              "    <path d=\"M0 0h24v24H0V0z\" fill=\"none\"/>\n",
              "    <path d=\"M18.56 5.44l.94 2.06.94-2.06 2.06-.94-2.06-.94-.94-2.06-.94 2.06-2.06.94zm-11 1L8.5 8.5l.94-2.06 2.06-.94-2.06-.94L8.5 2.5l-.94 2.06-2.06.94zm10 10l.94 2.06.94-2.06 2.06-.94-2.06-.94-.94-2.06-.94 2.06-2.06.94z\"/><path d=\"M17.41 7.96l-1.37-1.37c-.4-.4-.92-.59-1.43-.59-.52 0-1.04.2-1.43.59L10.3 9.45l-7.72 7.72c-.78.78-.78 2.05 0 2.83L4 21.41c.39.39.9.59 1.41.59.51 0 1.02-.2 1.41-.59l7.78-7.78 2.81-2.81c.8-.78.8-2.07 0-2.86zM5.41 20L4 18.59l7.72-7.72 1.47 1.35L5.41 20z\"/>\n",
              "  </svg>\n",
              "      </button>\n",
              "      \n",
              "  <style>\n",
              "    .colab-df-container {\n",
              "      display:flex;\n",
              "      flex-wrap:wrap;\n",
              "      gap: 12px;\n",
              "    }\n",
              "\n",
              "    .colab-df-convert {\n",
              "      background-color: #E8F0FE;\n",
              "      border: none;\n",
              "      border-radius: 50%;\n",
              "      cursor: pointer;\n",
              "      display: none;\n",
              "      fill: #1967D2;\n",
              "      height: 32px;\n",
              "      padding: 0 0 0 0;\n",
              "      width: 32px;\n",
              "    }\n",
              "\n",
              "    .colab-df-convert:hover {\n",
              "      background-color: #E2EBFA;\n",
              "      box-shadow: 0px 1px 2px rgba(60, 64, 67, 0.3), 0px 1px 3px 1px rgba(60, 64, 67, 0.15);\n",
              "      fill: #174EA6;\n",
              "    }\n",
              "\n",
              "    [theme=dark] .colab-df-convert {\n",
              "      background-color: #3B4455;\n",
              "      fill: #D2E3FC;\n",
              "    }\n",
              "\n",
              "    [theme=dark] .colab-df-convert:hover {\n",
              "      background-color: #434B5C;\n",
              "      box-shadow: 0px 1px 3px 1px rgba(0, 0, 0, 0.15);\n",
              "      filter: drop-shadow(0px 1px 2px rgba(0, 0, 0, 0.3));\n",
              "      fill: #FFFFFF;\n",
              "    }\n",
              "  </style>\n",
              "\n",
              "      <script>\n",
              "        const buttonEl =\n",
              "          document.querySelector('#df-1d2acb04-d392-4094-94a5-28c43bf7b509 button.colab-df-convert');\n",
              "        buttonEl.style.display =\n",
              "          google.colab.kernel.accessAllowed ? 'block' : 'none';\n",
              "\n",
              "        async function convertToInteractive(key) {\n",
              "          const element = document.querySelector('#df-1d2acb04-d392-4094-94a5-28c43bf7b509');\n",
              "          const dataTable =\n",
              "            await google.colab.kernel.invokeFunction('convertToInteractive',\n",
              "                                                     [key], {});\n",
              "          if (!dataTable) return;\n",
              "\n",
              "          const docLinkHtml = 'Like what you see? Visit the ' +\n",
              "            '<a target=\"_blank\" href=https://colab.research.google.com/notebooks/data_table.ipynb>data table notebook</a>'\n",
              "            + ' to learn more about interactive tables.';\n",
              "          element.innerHTML = '';\n",
              "          dataTable['output_type'] = 'display_data';\n",
              "          await google.colab.output.renderOutput(dataTable, element);\n",
              "          const docLink = document.createElement('div');\n",
              "          docLink.innerHTML = docLinkHtml;\n",
              "          element.appendChild(docLink);\n",
              "        }\n",
              "      </script>\n",
              "    </div>\n",
              "  </div>\n",
              "  "
            ]
          },
          "metadata": {},
          "execution_count": 15
        }
      ]
    },
    {
      "cell_type": "markdown",
      "source": [
        "Step 2: Plot the data. We will pass in kind = 'pie' keyword, along with the following additional parameters:\n",
        "\n",
        "- autopct - is a string or function used to label the wedges with their numeric value. The label will be placed inside the wedge. If it is a format string, the label will be fmt%pct.\n",
        "\n",
        "- startangle - rotates the start of the pie chart by angle degrees counterclockwise from the x-axis.\n",
        "- shadow - Draws a shadow beneath the pie (to give a 3D feel)."
      ],
      "metadata": {
        "id": "oQtW4oGv-oAF"
      }
    },
    {
      "cell_type": "code",
      "source": [
        "#autopct create %, start angle represent starting point\n",
        "df_continents['Total'].plot(kind = 'pie', figsize = (5,6),\n",
        "                            autopct = '%1.1f%%',  #add in percentages\n",
        "                            startangle = 90,     #start angel 90 (Africa)\n",
        "                            shadow = True,       #add shadow\n",
        "                            )\n",
        "plt.title('Immigration to Canada by Continent [1980 - 2013]')\n",
        "plt.axis('equal') #set the chart to look like a circle\n",
        "\n",
        "plt.show()"
      ],
      "metadata": {
        "id": "6ZaMPolf_VCG",
        "outputId": "9294b008-297a-4a28-bda1-33457a261b06",
        "colab": {
          "base_uri": "https://localhost:8080/",
          "height": 374
        }
      },
      "execution_count": 17,
      "outputs": [
        {
          "output_type": "display_data",
          "data": {
            "text/plain": [
              "<Figure size 360x432 with 1 Axes>"
            ],
            "image/png": "[encoded data removed]"
          },
          "metadata": {}
        }
      ]
    },
    {
      "cell_type": "markdown",
      "source": [
        ""
      ],
      "metadata": {
        "id": "LeXQ1VyyBBED"
      }
    },
    {
      "cell_type": "markdown",
      "source": [
        "The above visual is not very clear, the numbers and text overlap in some instances. Let's make a few modifications to improve the visuals:\n",
        "\n",
        "- Remove the text labels on the pie chart by passing in legend and add it as a seperate legend using plt.legend().\n",
        "\n",
        "- Push out the percentages to sit just outside the pie chart by passing in pctdistance parameter.\n",
        "- Pass in a custom set of colors for continents by passing in colors parameter.\n",
        "- Explode the pie chart to emphasize the lowest three continents (Africa, North America, and Latin America and Carribbean) by pasing in explode parameter."
      ],
      "metadata": {
        "id": "J3AJGxVKBBLh"
      }
    },
    {
      "cell_type": "code",
      "source": [
        "colors_list = ['gold','yellowgreen','lightcoral','lightskyblue','lightgreen','pink']\n",
        "# ratio for each continent with which to offset each wedge.\n",
        "explode_list = [0.1, 0, 0 ,0, 0.1, 0.1]\n"
      ],
      "metadata": {
        "id": "VWFKMMf7CkJ_"
      },
      "execution_count": null,
      "outputs": []
    }
  ]
}